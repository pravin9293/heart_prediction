{
 "cells": [
  {
   "cell_type": "code",
   "execution_count": 7,
   "id": "1384d17e",
   "metadata": {},
   "outputs": [],
   "source": [
    "import pickle\n",
    "import json\n",
    "import numpy as np\n",
    "\n",
    "import warnings\n",
    "warnings.filterwarnings('ignore')"
   ]
  },
  {
   "cell_type": "markdown",
   "id": "1765ff1e",
   "metadata": {},
   "source": [
    "### Load Model file"
   ]
  },
  {
   "cell_type": "code",
   "execution_count": 2,
   "id": "9841c65e",
   "metadata": {},
   "outputs": [
    {
     "data": {
      "text/plain": [
       "KNeighborsClassifier(n_neighbors=15, p=1)"
      ]
     },
     "execution_count": 2,
     "metadata": {},
     "output_type": "execute_result"
    }
   ],
   "source": [
    "with open(r'artifacts/KNN_rscv_model.pkl', 'rb') as f:\n",
    "    model =  pickle.load(f)\n",
    "    \n",
    "model"
   ]
  },
  {
   "cell_type": "markdown",
   "id": "dad2d5f9",
   "metadata": {},
   "source": [
    "### Load Normal Scaler"
   ]
  },
  {
   "cell_type": "code",
   "execution_count": 3,
   "id": "0bd327e8",
   "metadata": {},
   "outputs": [
    {
     "data": {
      "text/plain": [
       "MinMaxScaler()"
      ]
     },
     "execution_count": 3,
     "metadata": {},
     "output_type": "execute_result"
    }
   ],
   "source": [
    "with open(r'artifacts/Normal_scaler.pkl','rb') as f:\n",
    "    normal_scal = pickle.load(f)\n",
    "    \n",
    "normal_scal\n"
   ]
  },
  {
   "cell_type": "markdown",
   "id": "a6016037",
   "metadata": {},
   "source": [
    "### User Input"
   ]
  },
  {
   "cell_type": "code",
   "execution_count": 8,
   "id": "b8164c7b",
   "metadata": {},
   "outputs": [
    {
     "name": "stdout",
     "output_type": "stream",
     "text": [
      "Heart Disease Prediction is :  0\n"
     ]
    }
   ],
   "source": [
    "age      = 52.0\n",
    "sex      = 1.0\n",
    "cp       = 0.0\n",
    "trestbps = 125.0\n",
    "chol     = 212.0\n",
    "fbs      = 0.0\n",
    "restecg  = 1.0\n",
    "thalach  = 168.0\n",
    "exang    = 0.0\n",
    "oldpeak  = 1.0\n",
    "slope    = 2.0\n",
    "ca       = 2.0\n",
    "thal     = 3.0\n",
    "\n",
    "test_array = np.array([age,sex,cp, trestbps, chol, fbs, restecg, thalach, exang, oldpeak, slope, ca, thal], ndmin = 2)\n",
    "\n",
    "scaled_array = normal_scal.transform(test_array)\n",
    "\n",
    "pred_class = model.predict(scaled_array)[0]\n",
    "print(\"Heart Disease Prediction is : \", pred_class)"
   ]
  },
  {
   "cell_type": "code",
   "execution_count": null,
   "id": "58cc7132",
   "metadata": {},
   "outputs": [],
   "source": []
  }
 ],
 "metadata": {
  "kernelspec": {
   "display_name": "Python 3 (ipykernel)",
   "language": "python",
   "name": "python3"
  },
  "language_info": {
   "codemirror_mode": {
    "name": "ipython",
    "version": 3
   },
   "file_extension": ".py",
   "mimetype": "text/x-python",
   "name": "python",
   "nbconvert_exporter": "python",
   "pygments_lexer": "ipython3",
   "version": "3.9.13"
  },
  "vscode": {
   "interpreter": {
    "hash": "b7aa9b9376763bec00b7ccd7a41358d1d2f664e3895c3b252afdd6a7fb4aca8b"
   }
  }
 },
 "nbformat": 4,
 "nbformat_minor": 5
}
