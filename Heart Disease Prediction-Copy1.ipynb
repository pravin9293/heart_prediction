{
 "cells": [
  {
   "cell_type": "markdown",
   "id": "55afb2ab",
   "metadata": {},
   "source": [
    "## Heart Disease Prediction "
   ]
  },
  {
   "cell_type": "markdown",
   "id": "d961eaed",
   "metadata": {},
   "source": [
    "### Importing Required Libraries"
   ]
  },
  {
   "cell_type": "code",
   "execution_count": 14,
   "id": "71ac2532",
   "metadata": {},
   "outputs": [],
   "source": [
    "import numpy as np\n",
    "import pandas as pd\n",
    "\n",
    "from imblearn.over_sampling import RandomOverSampler, SMOTE\n",
    "from sklearn.preprocessing import MinMaxScaler\n",
    "from sklearn.model_selection import train_test_split, GridSearchCV, RandomizedSearchCV\n",
    "from sklearn.linear_model import  LogisticRegression\n",
    "from sklearn.neighbors import KNeighborsClassifier\n",
    "from sklearn.metrics import confusion_matrix, classification_report, accuracy_score\n",
    "from sklearn.metrics import plot_confusion_matrix, plot_precision_recall_curve, plot_roc_curve\n",
    "\n",
    "import matplotlib.pyplot as plt\n",
    "import seaborn as sns\n",
    "\n",
    "import pickle\n",
    "import json\n",
    "\n",
    "import warnings\n",
    "warnings.filterwarnings('ignore')\n",
    "\n",
    "import config"
   ]
  },
  {
   "cell_type": "markdown",
   "id": "94eef31d",
   "metadata": {},
   "source": [
    "## 1.Problem Statment :"
   ]
  },
  {
   "cell_type": "markdown",
   "id": "343e7841",
   "metadata": {},
   "source": [
    "Predict the heart disease using following features:\n",
    "1.age\n",
    "2.sex\n",
    "3.chest pain type (4 values)\n",
    "4.resting blood pressure\n",
    "5.serum cholestoral in mg/dl\n",
    "6.fasting blood sugar > 120 mg/dl\n",
    "7.resting electrocardiographic results (values 0,1,2)\n",
    "8.maximum heart rate achieved\n",
    "9.exercise induced angina\n",
    "10.oldpeak = ST depression induced by exercise relative to rest\n",
    "11.the slope of the peak exercise ST segment\n",
    "12.number of major vessels (0-3) colored by flourosopy\n",
    "13.thal: 0 = normal; 1 = fixed defect; 2 = reversable defect\n",
    "    "
   ]
  },
  {
   "cell_type": "markdown",
   "id": "f22cefb1",
   "metadata": {},
   "source": [
    "## 2. Data Gathering:"
   ]
  },
  {
   "cell_type": "code",
   "execution_count": 15,
   "id": "26d492d8",
   "metadata": {},
   "outputs": [
    {
     "data": {
      "text/html": [
       "<div>\n",
       "<style scoped>\n",
       "    .dataframe tbody tr th:only-of-type {\n",
       "        vertical-align: middle;\n",
       "    }\n",
       "\n",
       "    .dataframe tbody tr th {\n",
       "        vertical-align: top;\n",
       "    }\n",
       "\n",
       "    .dataframe thead th {\n",
       "        text-align: right;\n",
       "    }\n",
       "</style>\n",
       "<table border=\"1\" class=\"dataframe\">\n",
       "  <thead>\n",
       "    <tr style=\"text-align: right;\">\n",
       "      <th></th>\n",
       "      <th>age</th>\n",
       "      <th>sex</th>\n",
       "      <th>cp</th>\n",
       "      <th>trestbps</th>\n",
       "      <th>chol</th>\n",
       "      <th>fbs</th>\n",
       "      <th>restecg</th>\n",
       "      <th>thalach</th>\n",
       "      <th>exang</th>\n",
       "      <th>oldpeak</th>\n",
       "      <th>slope</th>\n",
       "      <th>ca</th>\n",
       "      <th>thal</th>\n",
       "      <th>target</th>\n",
       "    </tr>\n",
       "  </thead>\n",
       "  <tbody>\n",
       "    <tr>\n",
       "      <th>0</th>\n",
       "      <td>52</td>\n",
       "      <td>1</td>\n",
       "      <td>0</td>\n",
       "      <td>125</td>\n",
       "      <td>212</td>\n",
       "      <td>0</td>\n",
       "      <td>1</td>\n",
       "      <td>168</td>\n",
       "      <td>0</td>\n",
       "      <td>1.0</td>\n",
       "      <td>2</td>\n",
       "      <td>2</td>\n",
       "      <td>3</td>\n",
       "      <td>0</td>\n",
       "    </tr>\n",
       "    <tr>\n",
       "      <th>1</th>\n",
       "      <td>53</td>\n",
       "      <td>1</td>\n",
       "      <td>0</td>\n",
       "      <td>140</td>\n",
       "      <td>203</td>\n",
       "      <td>1</td>\n",
       "      <td>0</td>\n",
       "      <td>155</td>\n",
       "      <td>1</td>\n",
       "      <td>3.1</td>\n",
       "      <td>0</td>\n",
       "      <td>0</td>\n",
       "      <td>3</td>\n",
       "      <td>0</td>\n",
       "    </tr>\n",
       "    <tr>\n",
       "      <th>2</th>\n",
       "      <td>70</td>\n",
       "      <td>1</td>\n",
       "      <td>0</td>\n",
       "      <td>145</td>\n",
       "      <td>174</td>\n",
       "      <td>0</td>\n",
       "      <td>1</td>\n",
       "      <td>125</td>\n",
       "      <td>1</td>\n",
       "      <td>2.6</td>\n",
       "      <td>0</td>\n",
       "      <td>0</td>\n",
       "      <td>3</td>\n",
       "      <td>0</td>\n",
       "    </tr>\n",
       "    <tr>\n",
       "      <th>3</th>\n",
       "      <td>61</td>\n",
       "      <td>1</td>\n",
       "      <td>0</td>\n",
       "      <td>148</td>\n",
       "      <td>203</td>\n",
       "      <td>0</td>\n",
       "      <td>1</td>\n",
       "      <td>161</td>\n",
       "      <td>0</td>\n",
       "      <td>0.0</td>\n",
       "      <td>2</td>\n",
       "      <td>1</td>\n",
       "      <td>3</td>\n",
       "      <td>0</td>\n",
       "    </tr>\n",
       "    <tr>\n",
       "      <th>4</th>\n",
       "      <td>62</td>\n",
       "      <td>0</td>\n",
       "      <td>0</td>\n",
       "      <td>138</td>\n",
       "      <td>294</td>\n",
       "      <td>1</td>\n",
       "      <td>1</td>\n",
       "      <td>106</td>\n",
       "      <td>0</td>\n",
       "      <td>1.9</td>\n",
       "      <td>1</td>\n",
       "      <td>3</td>\n",
       "      <td>2</td>\n",
       "      <td>0</td>\n",
       "    </tr>\n",
       "    <tr>\n",
       "      <th>...</th>\n",
       "      <td>...</td>\n",
       "      <td>...</td>\n",
       "      <td>...</td>\n",
       "      <td>...</td>\n",
       "      <td>...</td>\n",
       "      <td>...</td>\n",
       "      <td>...</td>\n",
       "      <td>...</td>\n",
       "      <td>...</td>\n",
       "      <td>...</td>\n",
       "      <td>...</td>\n",
       "      <td>...</td>\n",
       "      <td>...</td>\n",
       "      <td>...</td>\n",
       "    </tr>\n",
       "    <tr>\n",
       "      <th>1020</th>\n",
       "      <td>59</td>\n",
       "      <td>1</td>\n",
       "      <td>1</td>\n",
       "      <td>140</td>\n",
       "      <td>221</td>\n",
       "      <td>0</td>\n",
       "      <td>1</td>\n",
       "      <td>164</td>\n",
       "      <td>1</td>\n",
       "      <td>0.0</td>\n",
       "      <td>2</td>\n",
       "      <td>0</td>\n",
       "      <td>2</td>\n",
       "      <td>1</td>\n",
       "    </tr>\n",
       "    <tr>\n",
       "      <th>1021</th>\n",
       "      <td>60</td>\n",
       "      <td>1</td>\n",
       "      <td>0</td>\n",
       "      <td>125</td>\n",
       "      <td>258</td>\n",
       "      <td>0</td>\n",
       "      <td>0</td>\n",
       "      <td>141</td>\n",
       "      <td>1</td>\n",
       "      <td>2.8</td>\n",
       "      <td>1</td>\n",
       "      <td>1</td>\n",
       "      <td>3</td>\n",
       "      <td>0</td>\n",
       "    </tr>\n",
       "    <tr>\n",
       "      <th>1022</th>\n",
       "      <td>47</td>\n",
       "      <td>1</td>\n",
       "      <td>0</td>\n",
       "      <td>110</td>\n",
       "      <td>275</td>\n",
       "      <td>0</td>\n",
       "      <td>0</td>\n",
       "      <td>118</td>\n",
       "      <td>1</td>\n",
       "      <td>1.0</td>\n",
       "      <td>1</td>\n",
       "      <td>1</td>\n",
       "      <td>2</td>\n",
       "      <td>0</td>\n",
       "    </tr>\n",
       "    <tr>\n",
       "      <th>1023</th>\n",
       "      <td>50</td>\n",
       "      <td>0</td>\n",
       "      <td>0</td>\n",
       "      <td>110</td>\n",
       "      <td>254</td>\n",
       "      <td>0</td>\n",
       "      <td>0</td>\n",
       "      <td>159</td>\n",
       "      <td>0</td>\n",
       "      <td>0.0</td>\n",
       "      <td>2</td>\n",
       "      <td>0</td>\n",
       "      <td>2</td>\n",
       "      <td>1</td>\n",
       "    </tr>\n",
       "    <tr>\n",
       "      <th>1024</th>\n",
       "      <td>54</td>\n",
       "      <td>1</td>\n",
       "      <td>0</td>\n",
       "      <td>120</td>\n",
       "      <td>188</td>\n",
       "      <td>0</td>\n",
       "      <td>1</td>\n",
       "      <td>113</td>\n",
       "      <td>0</td>\n",
       "      <td>1.4</td>\n",
       "      <td>1</td>\n",
       "      <td>1</td>\n",
       "      <td>3</td>\n",
       "      <td>0</td>\n",
       "    </tr>\n",
       "  </tbody>\n",
       "</table>\n",
       "<p>1025 rows × 14 columns</p>\n",
       "</div>"
      ],
      "text/plain": [
       "      age  sex  cp  trestbps  chol  fbs  restecg  thalach  exang  oldpeak  \\\n",
       "0      52    1   0       125   212    0        1      168      0      1.0   \n",
       "1      53    1   0       140   203    1        0      155      1      3.1   \n",
       "2      70    1   0       145   174    0        1      125      1      2.6   \n",
       "3      61    1   0       148   203    0        1      161      0      0.0   \n",
       "4      62    0   0       138   294    1        1      106      0      1.9   \n",
       "...   ...  ...  ..       ...   ...  ...      ...      ...    ...      ...   \n",
       "1020   59    1   1       140   221    0        1      164      1      0.0   \n",
       "1021   60    1   0       125   258    0        0      141      1      2.8   \n",
       "1022   47    1   0       110   275    0        0      118      1      1.0   \n",
       "1023   50    0   0       110   254    0        0      159      0      0.0   \n",
       "1024   54    1   0       120   188    0        1      113      0      1.4   \n",
       "\n",
       "      slope  ca  thal  target  \n",
       "0         2   2     3       0  \n",
       "1         0   0     3       0  \n",
       "2         0   0     3       0  \n",
       "3         2   1     3       0  \n",
       "4         1   3     2       0  \n",
       "...     ...  ..   ...     ...  \n",
       "1020      2   0     2       1  \n",
       "1021      1   1     3       0  \n",
       "1022      1   1     2       0  \n",
       "1023      2   0     2       1  \n",
       "1024      1   1     3       0  \n",
       "\n",
       "[1025 rows x 14 columns]"
      ]
     },
     "execution_count": 15,
     "metadata": {},
     "output_type": "execute_result"
    }
   ],
   "source": [
    "df = pd.read_csv(config.DATA)\n",
    "df"
   ]
  },
  {
   "cell_type": "code",
   "execution_count": 16,
   "id": "5a83670b",
   "metadata": {},
   "outputs": [
    {
     "data": {
      "text/plain": [
       "Index(['age', 'sex', 'cp', 'trestbps', 'chol', 'fbs', 'restecg', 'thalach',\n",
       "       'exang', 'oldpeak', 'slope', 'ca', 'thal', 'target'],\n",
       "      dtype='object')"
      ]
     },
     "execution_count": 16,
     "metadata": {},
     "output_type": "execute_result"
    }
   ],
   "source": [
    "df.columns\n"
   ]
  },
  {
   "cell_type": "markdown",
   "id": "1900f252",
   "metadata": {},
   "source": [
    "## 3. Exploratory Data Analysis"
   ]
  },
  {
   "cell_type": "code",
   "execution_count": 17,
   "id": "493e8d89",
   "metadata": {},
   "outputs": [
    {
     "name": "stdout",
     "output_type": "stream",
     "text": [
      "<class 'pandas.core.frame.DataFrame'>\n",
      "RangeIndex: 1025 entries, 0 to 1024\n",
      "Data columns (total 14 columns):\n",
      " #   Column    Non-Null Count  Dtype  \n",
      "---  ------    --------------  -----  \n",
      " 0   age       1025 non-null   int64  \n",
      " 1   sex       1025 non-null   int64  \n",
      " 2   cp        1025 non-null   int64  \n",
      " 3   trestbps  1025 non-null   int64  \n",
      " 4   chol      1025 non-null   int64  \n",
      " 5   fbs       1025 non-null   int64  \n",
      " 6   restecg   1025 non-null   int64  \n",
      " 7   thalach   1025 non-null   int64  \n",
      " 8   exang     1025 non-null   int64  \n",
      " 9   oldpeak   1025 non-null   float64\n",
      " 10  slope     1025 non-null   int64  \n",
      " 11  ca        1025 non-null   int64  \n",
      " 12  thal      1025 non-null   int64  \n",
      " 13  target    1025 non-null   int64  \n",
      "dtypes: float64(1), int64(13)\n",
      "memory usage: 112.2 KB\n"
     ]
    }
   ],
   "source": [
    "df.info()"
   ]
  },
  {
   "cell_type": "code",
   "execution_count": 18,
   "id": "7c9a4fdb",
   "metadata": {},
   "outputs": [
    {
     "data": {
      "text/plain": [
       "age         0\n",
       "sex         0\n",
       "cp          0\n",
       "trestbps    0\n",
       "chol        0\n",
       "fbs         0\n",
       "restecg     0\n",
       "thalach     0\n",
       "exang       0\n",
       "oldpeak     0\n",
       "slope       0\n",
       "ca          0\n",
       "thal        0\n",
       "target      0\n",
       "dtype: int64"
      ]
     },
     "execution_count": 18,
     "metadata": {},
     "output_type": "execute_result"
    }
   ],
   "source": [
    "df.isna().sum()"
   ]
  },
  {
   "cell_type": "markdown",
   "id": "c4621559",
   "metadata": {},
   "source": [
    "### Data Cleaning:"
   ]
  },
  {
   "cell_type": "markdown",
   "id": "c5a88088",
   "metadata": {},
   "source": [
    "1. No missing values\n",
    "2. All features have data type int"
   ]
  },
  {
   "cell_type": "markdown",
   "id": "63c63b11",
   "metadata": {},
   "source": [
    "## 4. Feature Engineering:"
   ]
  },
  {
   "cell_type": "markdown",
   "id": "653c05ed",
   "metadata": {},
   "source": [
    "### Check For Outliers"
   ]
  },
  {
   "cell_type": "markdown",
   "id": "86cfd5c2",
   "metadata": {},
   "source": [
    "### 1. 'age'"
   ]
  },
  {
   "cell_type": "code",
   "execution_count": 19,
   "id": "16c7a76c",
   "metadata": {
    "scrolled": false
   },
   "outputs": [
    {
     "data": {
      "text/plain": [
       "<AxesSubplot:xlabel='age'>"
      ]
     },
     "execution_count": 19,
     "metadata": {},
     "output_type": "execute_result"
    },
    {
     "data": {
      "image/png": "[encoded data removed]",
      "text/plain": [
       "<Figure size 300x200 with 1 Axes>"
      ]
     },
     "metadata": {},
     "output_type": "display_data"
    }
   ],
   "source": [
    "plt.figure(figsize=(3,2))\n",
    "sns.boxplot(x= df['age'])"
   ]
  },
  {
   "cell_type": "markdown",
   "id": "128dc3d6",
   "metadata": {},
   "source": [
    "### 2.'trestbps'"
   ]
  },
  {
   "cell_type": "code",
   "execution_count": 20,
   "id": "7f6dfda2",
   "metadata": {
    "scrolled": true
   },
   "outputs": [
    {
     "data": {
      "text/plain": [
       "<AxesSubplot:xlabel='trestbps'>"
      ]
     },
     "execution_count": 20,
     "metadata": {},
     "output_type": "execute_result"
    },
    {
     "data": {
      "image/png": "[encoded data removed]",
      "text/plain": [
       "<Figure size 300x200 with 1 Axes>"
      ]
     },
     "metadata": {},
     "output_type": "display_data"
    }
   ],
   "source": [
    "plt.figure(figsize=(3,2))\n",
    "sns.boxplot(x= df['trestbps'])     # Outliers are present "
   ]
  },
  {
   "cell_type": "code",
   "execution_count": 21,
   "id": "34f9fbdd",
   "metadata": {},
   "outputs": [],
   "source": [
    "# Handling the outliers of trestbps feature\n",
    "q1,q3 = np.quantile(df['trestbps'], [0.25,0.75])\n",
    "iqr = q3-q1\n",
    "\n",
    "upper_tail = q3 + 1.5*iqr\n",
    "df['trestbps'] = np.where(df['trestbps'] >upper_tail, upper_tail, df['trestbps'] )"
   ]
  },
  {
   "cell_type": "code",
   "execution_count": 22,
   "id": "183dac65",
   "metadata": {
    "scrolled": true
   },
   "outputs": [
    {
     "data": {
      "text/plain": [
       "<AxesSubplot:xlabel='trestbps'>"
      ]
     },
     "execution_count": 22,
     "metadata": {},
     "output_type": "execute_result"
    },
    {
     "data": {
      "image/png": "[encoded data removed]",
      "text/plain": [
       "<Figure size 300x200 with 1 Axes>"
      ]
     },
     "metadata": {},
     "output_type": "display_data"
    }
   ],
   "source": [
    "plt.figure(figsize=(3,2))\n",
    "sns.boxplot(x= df['trestbps']) "
   ]
  },
  {
   "cell_type": "markdown",
   "id": "533c0348",
   "metadata": {},
   "source": [
    "### 3. 'chol'"
   ]
  },
  {
   "cell_type": "code",
   "execution_count": 23,
   "id": "ac4ecbd0",
   "metadata": {
    "scrolled": false
   },
   "outputs": [
    {
     "data": {
      "text/plain": [
       "<AxesSubplot:xlabel='chol'>"
      ]
     },
     "execution_count": 23,
     "metadata": {},
     "output_type": "execute_result"
    },
    {
     "data": {
      "image/png": "[encoded data removed]",
      "text/plain": [
       "<Figure size 300x200 with 1 Axes>"
      ]
     },
     "metadata": {},
     "output_type": "display_data"
    }
   ],
   "source": [
    "plt.figure(figsize=(3,2))\n",
    "sns.boxplot(x= df['chol'])  \n",
    "# print(\"Skew Value : \", df['chol'].skew())"
   ]
  },
  {
   "cell_type": "code",
   "execution_count": 24,
   "id": "d473b190",
   "metadata": {},
   "outputs": [],
   "source": [
    "# Handling the outliers of trestbps feature\n",
    "q1,q3 = np.quantile(df['chol'], [0.25,0.75])\n",
    "iqr = q3-q1\n",
    "\n",
    "upper_tail = q3 + 1.5*iqr\n",
    "df['chol'] = np.where(df['chol'] >upper_tail, upper_tail, df['chol'] )"
   ]
  },
  {
   "cell_type": "code",
   "execution_count": 25,
   "id": "bda0b454",
   "metadata": {
    "scrolled": true
   },
   "outputs": [
    {
     "data": {
      "text/plain": [
       "<AxesSubplot:xlabel='chol'>"
      ]
     },
     "execution_count": 25,
     "metadata": {},
     "output_type": "execute_result"
    },
    {
     "data": {
      "image/png": "[encoded data removed]",
      "text/plain": [
       "<Figure size 300x200 with 1 Axes>"
      ]
     },
     "metadata": {},
     "output_type": "display_data"
    }
   ],
   "source": [
    "plt.figure(figsize=(3,2))\n",
    "sns.boxplot(x= df['chol'])"
   ]
  },
  {
   "cell_type": "markdown",
   "id": "3795ee0b",
   "metadata": {},
   "source": [
    "### 4. 'thalach'"
   ]
  },
  {
   "cell_type": "code",
   "execution_count": 26,
   "id": "f1da6676",
   "metadata": {
    "scrolled": true
   },
   "outputs": [
    {
     "data": {
      "text/plain": [
       "<AxesSubplot:xlabel='thalach'>"
      ]
     },
     "execution_count": 26,
     "metadata": {},
     "output_type": "execute_result"
    },
    {
     "data": {
      "image/png": "[encoded data removed]",
      "text/plain": [
       "<Figure size 300x200 with 1 Axes>"
      ]
     },
     "metadata": {},
     "output_type": "display_data"
    }
   ],
   "source": [
    "plt.figure(figsize=(3,2))\n",
    "sns.boxplot(x= df['thalach'])"
   ]
  },
  {
   "cell_type": "code",
   "execution_count": 27,
   "id": "cc6dab57",
   "metadata": {},
   "outputs": [],
   "source": [
    "# Handling the outliers of trestbps feature\n",
    "q1,q3 = np.quantile(df['thalach'], [0.25,0.75])\n",
    "iqr = q3-q1\n",
    "\n",
    "lower_tail = q1 - 1.5*iqr\n",
    "df['thalach'] = np.where(df['thalach'] <lower_tail, lower_tail, df['thalach'] )"
   ]
  },
  {
   "cell_type": "code",
   "execution_count": 28,
   "id": "1454d84b",
   "metadata": {
    "scrolled": true
   },
   "outputs": [
    {
     "data": {
      "text/plain": [
       "<AxesSubplot:xlabel='thalach'>"
      ]
     },
     "execution_count": 28,
     "metadata": {},
     "output_type": "execute_result"
    },
    {
     "data": {
      "image/png": "[encoded data removed]",
      "text/plain": [
       "<Figure size 300x200 with 1 Axes>"
      ]
     },
     "metadata": {},
     "output_type": "display_data"
    }
   ],
   "source": [
    "plt.figure(figsize=(3,2))\n",
    "sns.boxplot(x= df['thalach'])"
   ]
  },
  {
   "cell_type": "markdown",
   "id": "51b1f97c",
   "metadata": {},
   "source": [
    "### 5.'oldpeak'"
   ]
  },
  {
   "cell_type": "code",
   "execution_count": 29,
   "id": "7f30fb7c",
   "metadata": {
    "scrolled": true
   },
   "outputs": [
    {
     "data": {
      "text/plain": [
       "<AxesSubplot:xlabel='oldpeak'>"
      ]
     },
     "execution_count": 29,
     "metadata": {},
     "output_type": "execute_result"
    },
    {
     "data": {
      "image/png": "[encoded data removed]",
      "text/plain": [
       "<Figure size 300x200 with 1 Axes>"
      ]
     },
     "metadata": {},
     "output_type": "display_data"
    }
   ],
   "source": [
    "plt.figure(figsize=(3,2))\n",
    "sns.boxplot(x= df['oldpeak'])"
   ]
  },
  {
   "cell_type": "code",
   "execution_count": 30,
   "id": "fd34c7ca",
   "metadata": {},
   "outputs": [],
   "source": [
    "# Handling the outliers of trestbps feature\n",
    "q1,q3 = np.quantile(df['oldpeak'], [0.25,0.75])\n",
    "iqr = q3-q1\n",
    "\n",
    "upper_tail = q3 + 1.5*iqr\n",
    "df['oldpeak'] = np.where(df['oldpeak'] >upper_tail, upper_tail, df['oldpeak'] )"
   ]
  },
  {
   "cell_type": "code",
   "execution_count": 31,
   "id": "4eaf42aa",
   "metadata": {},
   "outputs": [
    {
     "data": {
      "text/plain": [
       "<AxesSubplot:xlabel='oldpeak'>"
      ]
     },
     "execution_count": 31,
     "metadata": {},
     "output_type": "execute_result"
    },
    {
     "data": {
      "image/png": "[encoded data removed]",
      "text/plain": [
       "<Figure size 300x200 with 1 Axes>"
      ]
     },
     "metadata": {},
     "output_type": "display_data"
    }
   ],
   "source": [
    "plt.figure(figsize=(3,2))\n",
    "sns.boxplot(x= df['oldpeak'])"
   ]
  },
  {
   "cell_type": "markdown",
   "id": "c765fd49",
   "metadata": {},
   "source": [
    "### Scaling:"
   ]
  },
  {
   "cell_type": "code",
   "execution_count": 32,
   "id": "1bfa948e",
   "metadata": {},
   "outputs": [],
   "source": [
    "x = df.drop(\"target\", axis = 1)\n",
    "y = df['target']\n",
    "\n",
    "normal_scaler = MinMaxScaler()\n",
    "array1 = normal_scaler.fit_transform(x)\n",
    "dfx = pd.DataFrame(array1, columns= x.columns)"
   ]
  },
  {
   "cell_type": "code",
   "execution_count": 33,
   "id": "8c7b9198",
   "metadata": {
    "scrolled": true
   },
   "outputs": [
    {
     "data": {
      "text/plain": [
       "1    526\n",
       "0    499\n",
       "Name: target, dtype: int64"
      ]
     },
     "execution_count": 33,
     "metadata": {},
     "output_type": "execute_result"
    }
   ],
   "source": [
    "y.value_counts()  # Data is balanced"
   ]
  },
  {
   "cell_type": "code",
   "execution_count": 34,
   "id": "ed740155",
   "metadata": {},
   "outputs": [],
   "source": [
    "# dfx.head()"
   ]
  },
  {
   "cell_type": "markdown",
   "id": "34ba85c3",
   "metadata": {},
   "source": [
    "## 5. Model Training & Evaluation:"
   ]
  },
  {
   "cell_type": "markdown",
   "id": "707a9a7e",
   "metadata": {},
   "source": [
    "### 5.1 Logistic Regression"
   ]
  },
  {
   "cell_type": "code",
   "execution_count": 35,
   "id": "e507cc35",
   "metadata": {},
   "outputs": [],
   "source": [
    "y = df['target']\n",
    "\n",
    "x_train, x_test, y_train, y_test = train_test_split(dfx,y, test_size=0.2, random_state=21, stratify=y )"
   ]
  },
  {
   "cell_type": "code",
   "execution_count": 36,
   "id": "394ae003",
   "metadata": {},
   "outputs": [
    {
     "data": {
      "text/plain": [
       "LogisticRegression()"
      ]
     },
     "execution_count": 36,
     "metadata": {},
     "output_type": "execute_result"
    }
   ],
   "source": [
    "logistic_reg = LogisticRegression()\n",
    "logistic_reg.fit(x_train, y_train)"
   ]
  },
  {
   "cell_type": "code",
   "execution_count": 37,
   "id": "fa503738",
   "metadata": {},
   "outputs": [
    {
     "name": "stdout",
     "output_type": "stream",
     "text": [
      "Training Data Accuracy :  0.8597560975609756\n",
      "Testing Data Accuracy :  0.8390243902439024\n"
     ]
    }
   ],
   "source": [
    "# Data Evaluation\n",
    "\n",
    "train_score = logistic_reg.score(x_train, y_train)\n",
    "print(\"Training Data Accuracy : \", train_score)\n",
    "\n",
    "test_score = logistic_reg.score(x_test, y_test)\n",
    "print(\"Testing Data Accuracy : \", test_score)"
   ]
  },
  {
   "cell_type": "markdown",
   "id": "badfff05",
   "metadata": {},
   "source": [
    "### 5.2 KNN Regression"
   ]
  },
  {
   "cell_type": "code",
   "execution_count": 121,
   "id": "cf99e02e",
   "metadata": {},
   "outputs": [
    {
     "data": {
      "text/plain": [
       "KNeighborsClassifier()"
      ]
     },
     "execution_count": 121,
     "metadata": {},
     "output_type": "execute_result"
    }
   ],
   "source": [
    "knn_reg = KNeighborsClassifier(n_neighbors=5, p = 2)\n",
    "knn_reg.fit(x_train, y_train)"
   ]
  },
  {
   "cell_type": "code",
   "execution_count": 122,
   "id": "5d9b1d82",
   "metadata": {},
   "outputs": [
    {
     "name": "stdout",
     "output_type": "stream",
     "text": [
      "Training Data Accuracy :  0.9341463414634147\n",
      "Testing Data Accuracy :  0.7902439024390244\n"
     ]
    }
   ],
   "source": [
    "# Data Evaluation\n",
    "\n",
    "train_score = knn_reg.score(x_train, y_train)\n",
    "print(\"Training Data Accuracy : \", train_score)\n",
    "\n",
    "test_score = knn_reg.score(x_test, y_test)\n",
    "print(\"Testing Data Accuracy : \", test_score)"
   ]
  },
  {
   "cell_type": "markdown",
   "id": "fd5ebddc",
   "metadata": {},
   "source": [
    "### Hyperparameter Tunning  for KNN "
   ]
  },
  {
   "cell_type": "markdown",
   "id": "180af531",
   "metadata": {},
   "source": [
    "### 1. GideSerachCV"
   ]
  },
  {
   "cell_type": "code",
   "execution_count": 78,
   "id": "c416dd69",
   "metadata": {},
   "outputs": [
    {
     "data": {
      "text/plain": [
       "GridSearchCV(cv=8, estimator=KNeighborsClassifier(),\n",
       "             param_grid={'n_neighbors': array([ 3,  4,  5,  6,  7,  8,  9, 10, 11, 12, 13, 14, 15, 16, 17, 18, 19,\n",
       "       20]),\n",
       "                         'p': [1, 2]})"
      ]
     },
     "execution_count": 78,
     "metadata": {},
     "output_type": "execute_result"
    }
   ],
   "source": [
    "knn_reg = KNeighborsClassifier()\n",
    "\n",
    "param_grid = {'n_neighbors' : np.arange(3,21), \n",
    "             'p' : [1,2]}\n",
    "\n",
    "gscv = GridSearchCV(knn_reg, param_grid, cv = 8 )\n",
    "gscv.fit(x_train, y_train)"
   ]
  },
  {
   "cell_type": "code",
   "execution_count": 79,
   "id": "a647f9a8",
   "metadata": {},
   "outputs": [],
   "source": [
    "# gscv.best_estimator_"
   ]
  },
  {
   "cell_type": "code",
   "execution_count": 81,
   "id": "a75b8493",
   "metadata": {},
   "outputs": [
    {
     "data": {
      "text/plain": [
       "KNeighborsClassifier(n_neighbors=3, p=1)"
      ]
     },
     "execution_count": 81,
     "metadata": {},
     "output_type": "execute_result"
    }
   ],
   "source": [
    "knn_reg_gs = gscv.best_estimator_\n",
    "knn_reg_gs.fit(x_train, y_train)"
   ]
  },
  {
   "cell_type": "code",
   "execution_count": 109,
   "id": "cdcea9ad",
   "metadata": {},
   "outputs": [
    {
     "name": "stdout",
     "output_type": "stream",
     "text": [
      "Training Data Accuracy :  0.9926829268292683\n",
      "Testing Data Accuracy :  0.9317073170731708\n"
     ]
    }
   ],
   "source": [
    "# Data Evaluation\n",
    "\n",
    "train_score = knn_reg_gs.score(x_train, y_train)\n",
    "print(\"Training Data Accuracy : \", train_score)\n",
    "\n",
    "test_score = knn_reg_gs.score(x_test, y_test)\n",
    "print(\"Testing Data Accuracy : \", test_score) \n",
    "\n",
    "# Here variance is high (acceptable range +-5%)"
   ]
  },
  {
   "cell_type": "markdown",
   "id": "57c5ae52",
   "metadata": {},
   "source": [
    "### 2. RandomizedSearchCV"
   ]
  },
  {
   "cell_type": "code",
   "execution_count": 110,
   "id": "4270cb93",
   "metadata": {},
   "outputs": [
    {
     "data": {
      "text/plain": [
       "RandomizedSearchCV(cv=8, estimator=KNeighborsClassifier(),\n",
       "                   param_distributions={'n_neighbors': array([ 3,  4,  5,  6,  7,  8,  9, 10, 11, 12, 13, 14, 15, 16, 17, 18, 19,\n",
       "       20]),\n",
       "                                        'p': [1, 2]})"
      ]
     },
     "execution_count": 110,
     "metadata": {},
     "output_type": "execute_result"
    }
   ],
   "source": [
    "knn_reg = KNeighborsClassifier()\n",
    "\n",
    "param_dist = {'n_neighbors' : np.arange(3,21), \n",
    "             'p' : [1,2]}\n",
    "\n",
    "rscv = RandomizedSearchCV(knn_reg, param_dist, cv = 8)\n",
    "rscv.fit(x_train, y_train)"
   ]
  },
  {
   "cell_type": "code",
   "execution_count": 111,
   "id": "b0dca9a5",
   "metadata": {},
   "outputs": [
    {
     "data": {
      "text/plain": [
       "KNeighborsClassifier(n_neighbors=7, p=1)"
      ]
     },
     "execution_count": 111,
     "metadata": {},
     "output_type": "execute_result"
    }
   ],
   "source": [
    "knn_reg_rs = rscv.best_estimator_\n",
    "knn_reg_rs.fit(x_train, y_train)"
   ]
  },
  {
   "cell_type": "code",
   "execution_count": 112,
   "id": "1d0f6593",
   "metadata": {},
   "outputs": [
    {
     "name": "stdout",
     "output_type": "stream",
     "text": [
      "Training Data Accuracy :  0.9109756097560976\n",
      "Testing Data Accuracy :  0.824390243902439\n"
     ]
    }
   ],
   "source": [
    "# Data Evaluation\n",
    "\n",
    "train_score = knn_reg_rs.score(x_train, y_train)\n",
    "print(\"Training Data Accuracy : \", train_score)\n",
    "\n",
    "test_score = knn_reg_rs.score(x_test, y_test)\n",
    "print(\"Testing Data Accuracy : \", test_score)\n",
    "\n",
    "# Here variance is high (acceptable range +-5%)"
   ]
  },
  {
   "cell_type": "markdown",
   "id": "9fd854d8",
   "metadata": {},
   "source": [
    "### Using for loop find best value of p and K"
   ]
  },
  {
   "cell_type": "code",
   "execution_count": 113,
   "id": "38117edf",
   "metadata": {},
   "outputs": [],
   "source": [
    "train_acc_list = []\n",
    "test_acc_list = []\n",
    "k_value = np.arange(3,21)\n",
    "\n",
    "for k in k_value:\n",
    "    knn_clf = KNeighborsClassifier(k, p = 2)\n",
    "    knn_clf.fit(x_train, y_train)\n",
    "    \n",
    "    train_acc = knn_clf.score(x_train, y_train)\n",
    "    train_acc_list.append(train_acc)\n",
    "    \n",
    "    test_acc = knn_clf.score(x_test, y_test)\n",
    "    test_acc_list.append(test_acc)\n"
   ]
  },
  {
   "cell_type": "code",
   "execution_count": 114,
   "id": "abbb86f4",
   "metadata": {},
   "outputs": [
    {
     "data": {
      "text/plain": [
       "[<matplotlib.lines.Line2D at 0x202ad681100>]"
      ]
     },
     "execution_count": 114,
     "metadata": {},
     "output_type": "execute_result"
    },
    {
     "data": {
      "image/png": "[encoded data removed]",
      "text/plain": [
       "<Figure size 640x480 with 1 Axes>"
      ]
     },
     "metadata": {},
     "output_type": "display_data"
    }
   ],
   "source": [
    "plt.plot(k_value, train_acc_list)\n",
    "plt.plot(k_value, test_acc_list)   "
   ]
  },
  {
   "cell_type": "code",
   "execution_count": 117,
   "id": "86ca2fea",
   "metadata": {},
   "outputs": [
    {
     "data": {
      "text/plain": [
       "KNeighborsClassifier(n_neighbors=19)"
      ]
     },
     "execution_count": 117,
     "metadata": {},
     "output_type": "execute_result"
    }
   ],
   "source": [
    "knn_reg = KNeighborsClassifier(n_neighbors=19, p = 2)\n",
    "knn_reg.fit(x_train, y_train)"
   ]
  },
  {
   "cell_type": "code",
   "execution_count": 118,
   "id": "bff847b5",
   "metadata": {},
   "outputs": [
    {
     "name": "stdout",
     "output_type": "stream",
     "text": [
      "Training Data Accuracy :  0.9109756097560976\n",
      "Testing Data Accuracy :  0.824390243902439\n"
     ]
    }
   ],
   "source": [
    "# Data Evaluation\n",
    "\n",
    "train_score = knn_reg_rs.score(x_train, y_train)\n",
    "print(\"Training Data Accuracy : \", train_score)\n",
    "\n",
    "test_score = knn_reg_rs.score(x_test, y_test)\n",
    "print(\"Testing Data Accuracy : \", test_score)"
   ]
  },
  {
   "cell_type": "code",
   "execution_count": null,
   "id": "c208ba5f",
   "metadata": {},
   "outputs": [],
   "source": []
  }
 ],
 "metadata": {
  "kernelspec": {
   "display_name": "Python 3 (ipykernel)",
   "language": "python",
   "name": "python3"
  },
  "language_info": {
   "codemirror_mode": {
    "name": "ipython",
    "version": 3
   },
   "file_extension": ".py",
   "mimetype": "text/x-python",
   "name": "python",
   "nbconvert_exporter": "python",
   "pygments_lexer": "ipython3",
   "version": "3.9.13"
  }
 },
 "nbformat": 4,
 "nbformat_minor": 5
}
